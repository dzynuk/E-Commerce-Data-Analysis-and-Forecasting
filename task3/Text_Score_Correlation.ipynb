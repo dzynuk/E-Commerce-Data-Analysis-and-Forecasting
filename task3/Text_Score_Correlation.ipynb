{
 "cells": [
  {
   "cell_type": "code",
   "execution_count": 1,
   "metadata": {},
   "outputs": [
    {
     "data": {
      "text/html": [
       "<div>\n",
       "<style scoped>\n",
       "    .dataframe tbody tr th:only-of-type {\n",
       "        vertical-align: middle;\n",
       "    }\n",
       "\n",
       "    .dataframe tbody tr th {\n",
       "        vertical-align: top;\n",
       "    }\n",
       "\n",
       "    .dataframe thead th {\n",
       "        text-align: right;\n",
       "    }\n",
       "</style>\n",
       "<table border=\"1\" class=\"dataframe\">\n",
       "  <thead>\n",
       "    <tr style=\"text-align: right;\">\n",
       "      <th></th>\n",
       "      <th>review_comment</th>\n",
       "      <th>review_score</th>\n",
       "    </tr>\n",
       "  </thead>\n",
       "  <tbody>\n",
       "    <tr>\n",
       "      <th>3</th>\n",
       "      <td>Recebi bem antes do prazo estipulado.</td>\n",
       "      <td>5</td>\n",
       "    </tr>\n",
       "    <tr>\n",
       "      <th>4</th>\n",
       "      <td>Parabéns lojas lannister adorei comprar pela ...</td>\n",
       "      <td>5</td>\n",
       "    </tr>\n",
       "    <tr>\n",
       "      <th>9</th>\n",
       "      <td>recomendo aparelho eficiente. no site a marca ...</td>\n",
       "      <td>4</td>\n",
       "    </tr>\n",
       "    <tr>\n",
       "      <th>12</th>\n",
       "      <td>Mas um pouco ,travando...pelo valor ta Boa.\\r\\n</td>\n",
       "      <td>4</td>\n",
       "    </tr>\n",
       "    <tr>\n",
       "      <th>15</th>\n",
       "      <td>Super recomendo Vendedor confiável, produto ok...</td>\n",
       "      <td>5</td>\n",
       "    </tr>\n",
       "    <tr>\n",
       "      <th>16</th>\n",
       "      <td>GOSTARIA DE SABER O QUE HOUVE, SEMPRE RECEBI ...</td>\n",
       "      <td>2</td>\n",
       "    </tr>\n",
       "    <tr>\n",
       "      <th>19</th>\n",
       "      <td>Não chegou meu produto  Péssimo</td>\n",
       "      <td>1</td>\n",
       "    </tr>\n",
       "    <tr>\n",
       "      <th>22</th>\n",
       "      <td>Ótimo Loja nota 10</td>\n",
       "      <td>5</td>\n",
       "    </tr>\n",
       "    <tr>\n",
       "      <th>24</th>\n",
       "      <td>obrigado pela atençao amim dispensada</td>\n",
       "      <td>5</td>\n",
       "    </tr>\n",
       "    <tr>\n",
       "      <th>27</th>\n",
       "      <td>A compra foi realizada facilmente.\\r\\nA entre...</td>\n",
       "      <td>5</td>\n",
       "    </tr>\n",
       "  </tbody>\n",
       "</table>\n",
       "</div>"
      ],
      "text/plain": [
       "                                       review_comment  review_score\n",
       "3               Recebi bem antes do prazo estipulado.             5\n",
       "4    Parabéns lojas lannister adorei comprar pela ...             5\n",
       "9   recomendo aparelho eficiente. no site a marca ...             4\n",
       "12    Mas um pouco ,travando...pelo valor ta Boa.\\r\\n             4\n",
       "15  Super recomendo Vendedor confiável, produto ok...             5\n",
       "16   GOSTARIA DE SABER O QUE HOUVE, SEMPRE RECEBI ...             2\n",
       "19                    Não chegou meu produto  Péssimo             1\n",
       "22                                 Ótimo Loja nota 10             5\n",
       "24              obrigado pela atençao amim dispensada             5\n",
       "27   A compra foi realizada facilmente.\\r\\nA entre...             5"
      ]
     },
     "execution_count": 1,
     "metadata": {},
     "output_type": "execute_result"
    }
   ],
   "source": [
    "import pandas as pd\n",
    "\n",
    "order_reviews_df = pd.read_csv('../data/order_reviews.csv')\n",
    "\n",
    "order_reviews_df['review_comment'] = order_reviews_df['review_comment_title'].fillna('') + ' ' + order_reviews_df['review_comment_message'].fillna('')\n",
    "\n",
    "order_reviews_df = order_reviews_df[order_reviews_df['review_comment'].str.strip() != '']\n",
    "order_reviews_df = order_reviews_df[['review_comment', 'review_score']]\n",
    "order_reviews_df.head(10)"
   ]
  },
  {
   "cell_type": "code",
   "execution_count": 2,
   "metadata": {},
   "outputs": [
    {
     "name": "stdout",
     "output_type": "stream",
     "text": [
      "Використовується пристрій: cuda\n"
     ]
    },
    {
     "name": "stderr",
     "output_type": "stream",
     "text": [
      "c:\\Users\\Микола\\AppData\\Local\\Programs\\Python\\Python311\\Lib\\site-packages\\huggingface_hub\\file_download.py:1132: FutureWarning: `resume_download` is deprecated and will be removed in version 1.0.0. Downloads always resume when possible. If you want to force a new download, use `force_download=True`.\n",
      "  warnings.warn(\n"
     ]
    },
    {
     "data": {
      "text/html": [
       "<div>\n",
       "<style scoped>\n",
       "    .dataframe tbody tr th:only-of-type {\n",
       "        vertical-align: middle;\n",
       "    }\n",
       "\n",
       "    .dataframe tbody tr th {\n",
       "        vertical-align: top;\n",
       "    }\n",
       "\n",
       "    .dataframe thead th {\n",
       "        text-align: right;\n",
       "    }\n",
       "</style>\n",
       "<table border=\"1\" class=\"dataframe\">\n",
       "  <thead>\n",
       "    <tr style=\"text-align: right;\">\n",
       "      <th></th>\n",
       "      <th>review_comment</th>\n",
       "      <th>review_score</th>\n",
       "      <th>model_evaluation</th>\n",
       "    </tr>\n",
       "  </thead>\n",
       "  <tbody>\n",
       "    <tr>\n",
       "      <th>3</th>\n",
       "      <td>Recebi bem antes do prazo estipulado.</td>\n",
       "      <td>5</td>\n",
       "      <td>5</td>\n",
       "    </tr>\n",
       "    <tr>\n",
       "      <th>4</th>\n",
       "      <td>Parabéns lojas lannister adorei comprar pela ...</td>\n",
       "      <td>5</td>\n",
       "      <td>5</td>\n",
       "    </tr>\n",
       "    <tr>\n",
       "      <th>9</th>\n",
       "      <td>recomendo aparelho eficiente. no site a marca ...</td>\n",
       "      <td>4</td>\n",
       "      <td>5</td>\n",
       "    </tr>\n",
       "    <tr>\n",
       "      <th>12</th>\n",
       "      <td>Mas um pouco ,travando...pelo valor ta Boa.\\r\\n</td>\n",
       "      <td>4</td>\n",
       "      <td>4</td>\n",
       "    </tr>\n",
       "    <tr>\n",
       "      <th>15</th>\n",
       "      <td>Super recomendo Vendedor confiável, produto ok...</td>\n",
       "      <td>5</td>\n",
       "      <td>5</td>\n",
       "    </tr>\n",
       "  </tbody>\n",
       "</table>\n",
       "</div>"
      ],
      "text/plain": [
       "                                       review_comment  review_score  \\\n",
       "3               Recebi bem antes do prazo estipulado.             5   \n",
       "4    Parabéns lojas lannister adorei comprar pela ...             5   \n",
       "9   recomendo aparelho eficiente. no site a marca ...             4   \n",
       "12    Mas um pouco ,travando...pelo valor ta Boa.\\r\\n             4   \n",
       "15  Super recomendo Vendedor confiável, produto ok...             5   \n",
       "\n",
       "    model_evaluation  \n",
       "3                  5  \n",
       "4                  5  \n",
       "9                  5  \n",
       "12                 4  \n",
       "15                 5  "
      ]
     },
     "execution_count": 2,
     "metadata": {},
     "output_type": "execute_result"
    }
   ],
   "source": [
    "import torch\n",
    "from transformers import RobertaTokenizer, RobertaForSequenceClassification\n",
    "\n",
    "order_reviews_df = order_reviews_df[['review_comment', 'review_score']]\n",
    "\n",
    "device = torch.device(\"cuda\" if torch.cuda.is_available() else \"cpu\")\n",
    "print(f\"Використовується пристрій: {device}\")\n",
    "\n",
    "tokenizer = RobertaTokenizer.from_pretrained('roberta-base')\n",
    "\n",
    "model_path = \"new_data_task3/model_training_results/checkpoint-6000\"\n",
    "model = RobertaForSequenceClassification.from_pretrained(model_path)\n",
    "model.to(device) \n",
    "\n",
    "def batch_predict_sentiment(texts):\n",
    "    # Токенизація текстів\n",
    "    inputs = tokenizer(texts, padding=\"max_length\", truncation=True, max_length=128, return_tensors='pt').to(device)\n",
    "    \n",
    "    outputs = model(**inputs)\n",
    "    \n",
    "    predicted_classes = torch.argmax(outputs.logits, dim=1).tolist()\n",
    "    # Перетворення индексів  від 1 до 5\n",
    "    predicted_scores = [pred_class + 1 for pred_class in predicted_classes]\n",
    "    return predicted_scores\n",
    "\n",
    "batch_size = 256\n",
    "batches = [order_reviews_df[i:i+batch_size] for i in range(0, len(order_reviews_df), batch_size)]\n",
    "\n",
    "# Передача пакетів для прогнозу\n",
    "predicted_scores = []\n",
    "for batch_df in batches:\n",
    "    batch_texts = batch_df['review_comment'].tolist()\n",
    "    batch_scores = batch_predict_sentiment(batch_texts)\n",
    "    predicted_scores.extend(batch_scores)\n",
    "\n",
    "order_reviews_df['model_evaluation'] = predicted_scores\n",
    "order_reviews_df.head()"
   ]
  },
  {
   "cell_type": "code",
   "execution_count": 37,
   "metadata": {},
   "outputs": [
    {
     "name": "stdout",
     "output_type": "stream",
     "text": [
      "43463\n"
     ]
    }
   ],
   "source": [
    "print(len(order_reviews_df['model_evaluation']))"
   ]
  },
  {
   "cell_type": "code",
   "execution_count": 43,
   "metadata": {},
   "outputs": [
    {
     "data": {
      "image/png": "[encoded data removed]",
      "text/plain": [
       "<Figure size 1200x800 with 2 Axes>"
      ]
     },
     "metadata": {},
     "output_type": "display_data"
    }
   ],
   "source": [
    "import numpy as np\n",
    "import matplotlib.pyplot as plt\n",
    "import seaborn as sns\n",
    "from scipy.stats import chi2_contingency\n",
    "\n",
    "contingency_table = pd.crosstab(order_reviews_df['review_score'], order_reviews_df['model_evaluation'])\n",
    "\n",
    "# Визначення кореляції Пірсона\n",
    "pearson_corr = order_reviews_df['review_score'].corr(order_reviews_df['model_evaluation'])\n",
    "\n",
    "# Використання коефіцієнту V Крамера для оцінки асоціації\n",
    "def cramers_v(table):\n",
    "    chi2 = chi2_contingency(table)[0]\n",
    "    n = table.sum().sum()\n",
    "    phi2 = chi2 / n\n",
    "    r, k = table.shape\n",
    "    phi2corr = max(0, phi2 - ((k-1)*(r-1))/(n-1))\n",
    "    rcorr = r - ((r-1)**2)/(n-1)\n",
    "    kcorr = k - ((k-1)**2)/(n-1)\n",
    "    return np.sqrt(phi2corr / min((kcorr-1), (rcorr-1)))\n",
    "\n",
    "cramers_v_score = cramers_v(contingency_table)\n",
    "\n",
    "plt.figure(figsize=(12, 8))\n",
    "sns.heatmap(contingency_table, annot=True, cmap='viridis', fmt='d')\n",
    "plt.title(f'Pearson Correlation: {pearson_corr:.2f}        Cramer\\'s V Score: {cramers_v_score:.2f}')\n",
    "plt.xlabel('Model Evaluation')\n",
    "plt.ylabel('Review Score')\n",
    "\n",
    "plt.savefig('new_data_task3/Text_Score_Correlation.png', bbox_inches='tight')\n",
    "\n",
    "plt.show()"
   ]
  },
  {
   "cell_type": "code",
   "execution_count": null,
   "metadata": {},
   "outputs": [],
   "source": []
  }
 ],
 "metadata": {
  "kernelspec": {
   "display_name": "Python 3",
   "language": "python",
   "name": "python3"
  },
  "language_info": {
   "codemirror_mode": {
    "name": "ipython",
    "version": 3
   },
   "file_extension": ".py",
   "mimetype": "text/x-python",
   "name": "python",
   "nbconvert_exporter": "python",
   "pygments_lexer": "ipython3",
   "version": "3.11.4"
  }
 },
 "nbformat": 4,
 "nbformat_minor": 2
}
